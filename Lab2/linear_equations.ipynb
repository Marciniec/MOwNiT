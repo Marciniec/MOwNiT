{
 "cells": [
  {
   "cell_type": "code",
   "execution_count": 42,
   "metadata": {
    "collapsed": true,
    "scrolled": false
   },
   "outputs": [],
   "source": [
    "import numpy as np\n",
    "import scipy.linalg as la\n",
    "import matplotlib.pyplot as plt\n",
    "from time import clock"
   ]
  },
  {
   "cell_type": "code",
   "execution_count": 43,
   "metadata": {
    "collapsed": true
   },
   "outputs": [],
   "source": [
    "def create_random_matrix(size=758):\n",
    "    matrix = np.random.rand(size,size)\n",
    "    matrix = np.round(matrix,5)\n",
    "    vector = np.random.rand(size)\n",
    "    vector = np.round(vector, 5)\n",
    "    return matrix, vector"
   ]
  },
  {
   "cell_type": "code",
   "execution_count": 44,
   "metadata": {
    "collapsed": true
   },
   "outputs": [],
   "source": [
    "size = 5\n",
    "matrix, vector = create_random_matrix(size)"
   ]
  },
  {
   "cell_type": "code",
   "execution_count": 45,
   "metadata": {
    "collapsed": false
   },
   "outputs": [
    {
     "data": {
      "text/plain": [
       "array([[ 0.90668,  0.0833 ,  0.29939,  0.92475,  0.39161],\n",
       "       [ 0.9838 ,  0.47463,  0.6089 ,  0.1992 ,  0.87169],\n",
       "       [ 0.90232,  0.69567,  0.47581,  0.42842,  0.94284],\n",
       "       [ 0.12882,  0.90645,  0.00131,  0.33111,  0.9041 ],\n",
       "       [ 0.57614,  0.55609,  0.65791,  0.34345,  0.65185]])"
      ]
     },
     "execution_count": 45,
     "metadata": {},
     "output_type": "execute_result"
    }
   ],
   "source": [
    "matrix"
   ]
  },
  {
   "cell_type": "code",
   "execution_count": 46,
   "metadata": {
    "collapsed": false
   },
   "outputs": [
    {
     "data": {
      "text/plain": [
       "array([ 0.8704 ,  0.91061,  0.08523,  0.91304,  0.97733])"
      ]
     },
     "execution_count": 46,
     "metadata": {},
     "output_type": "execute_result"
    }
   ],
   "source": [
    "vector"
   ]
  },
  {
   "cell_type": "code",
   "execution_count": 118,
   "metadata": {
    "collapsed": true
   },
   "outputs": [],
   "source": [
    "start = clock()\n",
    "x = np.linalg.solve(matrix, vector)\n",
    "end = clock()\n",
    "\n"
   ]
  },
  {
   "cell_type": "code",
   "execution_count": 119,
   "metadata": {
    "collapsed": false
   },
   "outputs": [
    {
     "name": "stdout",
     "output_type": "stream",
     "text": [
      "Time of solving for 5x5 matix is: 0.033780675669277116s \n"
     ]
    }
   ],
   "source": [
    "print(\"Time of solving for 5x5 matix is: {0}s \".format(end - start))"
   ]
  },
  {
   "cell_type": "code",
   "execution_count": 66,
   "metadata": {
    "collapsed": false
   },
   "outputs": [
    {
     "data": {
      "text/plain": [
       "(10,\n",
       " 110,\n",
       " 210,\n",
       " 310,\n",
       " 410,\n",
       " 510,\n",
       " 610,\n",
       " 710,\n",
       " 810,\n",
       " 910,\n",
       " 1010,\n",
       " 1110,\n",
       " 1210,\n",
       " 1310,\n",
       " 1410,\n",
       " 1510,\n",
       " 1610,\n",
       " 1710,\n",
       " 1810,\n",
       " 1910,\n",
       " 2010,\n",
       " 2110,\n",
       " 2210,\n",
       " 2310,\n",
       " 2410,\n",
       " 2510,\n",
       " 2610,\n",
       " 2710,\n",
       " 2810,\n",
       " 2910,\n",
       " 3010,\n",
       " 3110,\n",
       " 3210,\n",
       " 3310,\n",
       " 3410,\n",
       " 3510,\n",
       " 3610,\n",
       " 3710,\n",
       " 3810,\n",
       " 3910,\n",
       " 4010,\n",
       " 4110,\n",
       " 4210,\n",
       " 4310,\n",
       " 4410,\n",
       " 4510,\n",
       " 4610,\n",
       " 4710,\n",
       " 4810,\n",
       " 4910)"
      ]
     },
     "execution_count": 66,
     "metadata": {},
     "output_type": "execute_result"
    }
   ],
   "source": [
    "x"
   ]
  },
  {
   "cell_type": "code",
   "execution_count": 112,
   "metadata": {
    "collapsed": true
   },
   "outputs": [],
   "source": [
    "start = clock()\n",
    "P, L, U = la.lu(matrix)\n",
    "end = clock()\n"
   ]
  },
  {
   "cell_type": "code",
   "execution_count": 117,
   "metadata": {
    "collapsed": false
   },
   "outputs": [
    {
     "name": "stdout",
     "output_type": "stream",
     "text": [
      "Time of LU decomposition for 5x5 matix is: 0.061897181864424056s \n"
     ]
    }
   ],
   "source": [
    "print(\"Time of LU decomposition for 5x5 matix is: {0}s \".format(end - start))"
   ]
  },
  {
   "cell_type": "code",
   "execution_count": 70,
   "metadata": {
    "collapsed": false
   },
   "outputs": [
    {
     "data": {
      "text/plain": [
       "array([[ 0.,  0.,  0., ...,  0.,  0.,  0.],\n",
       "       [ 0.,  0.,  0., ...,  0.,  0.,  0.],\n",
       "       [ 0.,  0.,  0., ...,  0.,  0.,  0.],\n",
       "       ..., \n",
       "       [ 0.,  0.,  0., ...,  0.,  0.,  0.],\n",
       "       [ 0.,  0.,  0., ...,  0.,  0.,  0.],\n",
       "       [ 0.,  0.,  0., ...,  0.,  0.,  0.]])"
      ]
     },
     "execution_count": 70,
     "metadata": {},
     "output_type": "execute_result"
    }
   ],
   "source": [
    "P"
   ]
  },
  {
   "cell_type": "code",
   "execution_count": 50,
   "metadata": {
    "collapsed": true
   },
   "outputs": [],
   "source": [
    "result = matrix @ x\n",
    "result = np.round(result,5)"
   ]
  },
  {
   "cell_type": "code",
   "execution_count": 51,
   "metadata": {
    "collapsed": false
   },
   "outputs": [
    {
     "data": {
      "text/plain": [
       "True"
      ]
     },
     "execution_count": 51,
     "metadata": {},
     "output_type": "execute_result"
    }
   ],
   "source": [
    "np.array_equal(result, vector)"
   ]
  },
  {
   "cell_type": "code",
   "execution_count": 99,
   "metadata": {
    "collapsed": true
   },
   "outputs": [],
   "source": [
    "decomposition_times = {}"
   ]
  },
  {
   "cell_type": "code",
   "execution_count": 100,
   "metadata": {
    "collapsed": true
   },
   "outputs": [],
   "source": [
    "for i in range(0,11):\n",
    "    matrix, vector = create_random_matrix(10+i*99)\n",
    "    start = clock()\n",
    "    P, L, U = la.lu(matrix)\n",
    "    end = clock()\n",
    "    times=end - start\n",
    "    decomposition_times.update({10+i*99: times})\n",
    "    "
   ]
  },
  {
   "cell_type": "code",
   "execution_count": 101,
   "metadata": {
    "collapsed": false
   },
   "outputs": [
    {
     "data": {
      "text/plain": [
       "{10: 0.0050329511809650285,\n",
       " 109: 0.0005038549570599571,\n",
       " 208: 0.0014868386551825097,\n",
       " 307: 0.00357737019430715,\n",
       " 406: 0.008141456346038467,\n",
       " 505: 0.009796713186005945,\n",
       " 604: 0.013220127699241857,\n",
       " 703: 0.023545888590433606,\n",
       " 802: 0.027271616077086946,\n",
       " 901: 0.03766315803204634,\n",
       " 1000: 0.05691741537339112}"
      ]
     },
     "execution_count": 101,
     "metadata": {},
     "output_type": "execute_result"
    }
   ],
   "source": [
    "decomposition_times"
   ]
  },
  {
   "cell_type": "code",
   "execution_count": 102,
   "metadata": {
    "collapsed": true
   },
   "outputs": [],
   "source": [
    "lists = sorted(decomposition_times.items())\n",
    "x, y = zip(*lists)"
   ]
  },
  {
   "cell_type": "code",
   "execution_count": 103,
   "metadata": {
    "collapsed": true
   },
   "outputs": [],
   "source": [
    "coef = np.polyfit(x,y,2)"
   ]
  },
  {
   "cell_type": "code",
   "execution_count": 104,
   "metadata": {
    "collapsed": false
   },
   "outputs": [
    {
     "data": {
      "text/plain": [
       "array([  8.04515904e-08,  -3.25481565e-05,   5.04890002e-03])"
      ]
     },
     "execution_count": 104,
     "metadata": {},
     "output_type": "execute_result"
    }
   ],
   "source": [
    "coef"
   ]
  },
  {
   "cell_type": "code",
   "execution_count": 105,
   "metadata": {
    "collapsed": false
   },
   "outputs": [
    {
     "data": {
      "image/png": "[encoded data removed]",
      "text/plain": [
       "<matplotlib.figure.Figure at 0x29e021bd748>"
      ]
     },
     "metadata": {},
     "output_type": "display_data"
    }
   ],
   "source": [
    "plt.plot(x, y, 'ro')\n",
    "t = np.linspace(10,1000)\n",
    "plt.plot(t, coef[0]*t**2+coef[1]*t,'b')\n",
    "plt.xlabel('Matrix size')\n",
    "plt.ylabel('time[s]')\n",
    "plt.show()"
   ]
  },
  {
   "cell_type": "code",
   "execution_count": 106,
   "metadata": {
    "collapsed": true
   },
   "outputs": [],
   "source": [
    "solving_times = {}"
   ]
  },
  {
   "cell_type": "code",
   "execution_count": 107,
   "metadata": {
    "collapsed": true
   },
   "outputs": [],
   "source": [
    "for i in range(0,11):\n",
    "    matrix, vector = create_random_matrix(10+i*99)\n",
    "    start = clock()\n",
    "    x = np.linalg.solve(matrix,vector)\n",
    "    end = clock()\n",
    "    times=end - start\n",
    "    solving_times.update({10+i*99: times})\n",
    "    "
   ]
  },
  {
   "cell_type": "code",
   "execution_count": 108,
   "metadata": {
    "collapsed": false
   },
   "outputs": [
    {
     "data": {
      "text/plain": [
       "{10: 9.423953815712593e-05,\n",
       " 109: 0.0004357412312856468,\n",
       " 208: 0.0009232675556631875,\n",
       " 307: 0.002146048890608654,\n",
       " 406: 0.0038367621905308624,\n",
       " 505: 0.006772650379843981,\n",
       " 604: 0.00661636203631133,\n",
       " 703: 0.009966997500214347,\n",
       " 802: 0.01741378715087194,\n",
       " 901: 0.03149093480942611,\n",
       " 1000: 0.026262506566581578}"
      ]
     },
     "execution_count": 108,
     "metadata": {},
     "output_type": "execute_result"
    }
   ],
   "source": [
    "solving_times"
   ]
  },
  {
   "cell_type": "code",
   "execution_count": 121,
   "metadata": {
    "collapsed": true
   },
   "outputs": [],
   "source": [
    "lists = sorted(solving_times.items())\n",
    "x, y = zip(*lists)"
   ]
  },
  {
   "cell_type": "code",
   "execution_count": 122,
   "metadata": {
    "collapsed": false
   },
   "outputs": [
    {
     "data": {
      "image/png": "[encoded data removed]",
      "text/plain": [
       "<matplotlib.figure.Figure at 0x29e022458d0>"
      ]
     },
     "metadata": {},
     "output_type": "display_data"
    }
   ],
   "source": [
    "coef = np.polyfit(x,y,2)\n",
    "plt.plot(x, y, 'ro')\n",
    "t = np.linspace(10,1000)\n",
    "plt.plot(t, coef[0]*t**2+coef[1]*t,'b')\n",
    "plt.xlabel('Matrix size')\n",
    "plt.ylabel('time[s]')\n",
    "plt.show()"
   ]
  },
  {
   "cell_type": "code",
   "execution_count": null,
   "metadata": {
    "collapsed": true
   },
   "outputs": [],
   "source": []
  }
 ],
 "metadata": {
  "kernelspec": {
   "display_name": "Python 3",
   "language": "python",
   "name": "python3"
  },
  "language_info": {
   "codemirror_mode": {
    "name": "ipython",
    "version": 3
   },
   "file_extension": ".py",
   "mimetype": "text/x-python",
   "name": "python",
   "nbconvert_exporter": "python",
   "pygments_lexer": "ipython3",
   "version": "3.6.3"
  }
 },
 "nbformat": 4,
 "nbformat_minor": 2
}
